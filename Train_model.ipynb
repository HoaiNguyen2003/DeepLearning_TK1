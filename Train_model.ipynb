{
 "cells": [
  {
   "cell_type": "code",
   "execution_count": 1,
   "metadata": {},
   "outputs": [],
   "source": [
    "import pandas as pd \n",
    "import numpy as np\n",
    "from sklearn.model_selection import train_test_split\n",
    "from sklearn.metrics import accuracy_score\n",
    "from processing_data import process_data\n",
    "from sklearn.preprocessing import LabelEncoder, StandardScaler, MinMaxScaler\n",
    "from tensorflow.keras.models import Sequential\n",
    "from tensorflow.keras.layers import LSTM, Dense, Dropout, BatchNormalization, Bidirectional, GRU\n",
    "from tensorflow.keras.utils import to_categorical\n",
    "import torch\n",
    "import torch.nn as nn"
   ]
  },
  {
   "cell_type": "code",
   "execution_count": 2,
   "metadata": {},
   "outputs": [
    {
     "data": {
      "text/html": [
       "<div>\n",
       "<style scoped>\n",
       "    .dataframe tbody tr th:only-of-type {\n",
       "        vertical-align: middle;\n",
       "    }\n",
       "\n",
       "    .dataframe tbody tr th {\n",
       "        vertical-align: top;\n",
       "    }\n",
       "\n",
       "    .dataframe thead th {\n",
       "        text-align: right;\n",
       "    }\n",
       "</style>\n",
       "<table border=\"1\" class=\"dataframe\">\n",
       "  <thead>\n",
       "    <tr style=\"text-align: right;\">\n",
       "      <th></th>\n",
       "      <th>IDLopHoc</th>\n",
       "      <th>IDSinhVien</th>\n",
       "      <th>MaMonHoc</th>\n",
       "      <th>HocKy</th>\n",
       "      <th>NamHoc</th>\n",
       "      <th>DiemTongKet</th>\n",
       "      <th>QuaMon</th>\n",
       "      <th>DiemTBMon</th>\n",
       "      <th>TenMonHoc</th>\n",
       "      <th>ThuocKCNTT</th>\n",
       "      <th>DotHoc</th>\n",
       "      <th>GioiTinh</th>\n",
       "      <th>MaHoa_XepLoai</th>\n",
       "    </tr>\n",
       "  </thead>\n",
       "  <tbody>\n",
       "    <tr>\n",
       "      <th>0</th>\n",
       "      <td>25933</td>\n",
       "      <td>1677250</td>\n",
       "      <td>3395</td>\n",
       "      <td>HK1</td>\n",
       "      <td>2020-2021</td>\n",
       "      <td>8.9</td>\n",
       "      <td>1</td>\n",
       "      <td>7.49</td>\n",
       "      <td>Logic học</td>\n",
       "      <td>0</td>\n",
       "      <td>2</td>\n",
       "      <td>1</td>\n",
       "      <td>4</td>\n",
       "    </tr>\n",
       "    <tr>\n",
       "      <th>1</th>\n",
       "      <td>25933</td>\n",
       "      <td>1677250</td>\n",
       "      <td>3197</td>\n",
       "      <td>HK1</td>\n",
       "      <td>2019-2020</td>\n",
       "      <td>8.0</td>\n",
       "      <td>1</td>\n",
       "      <td>7.52</td>\n",
       "      <td>Kỹ năng xây dựng kế hoạch</td>\n",
       "      <td>0</td>\n",
       "      <td>3</td>\n",
       "      <td>1</td>\n",
       "      <td>3</td>\n",
       "    </tr>\n",
       "    <tr>\n",
       "      <th>2</th>\n",
       "      <td>25933</td>\n",
       "      <td>1677250</td>\n",
       "      <td>3203</td>\n",
       "      <td>HK2</td>\n",
       "      <td>2019-2020</td>\n",
       "      <td>7.6</td>\n",
       "      <td>1</td>\n",
       "      <td>7.19</td>\n",
       "      <td>Âm nhạc – Nhạc lý và Guitar căn bản</td>\n",
       "      <td>0</td>\n",
       "      <td>4</td>\n",
       "      <td>1</td>\n",
       "      <td>3</td>\n",
       "    </tr>\n",
       "    <tr>\n",
       "      <th>3</th>\n",
       "      <td>25933</td>\n",
       "      <td>1677250</td>\n",
       "      <td>901</td>\n",
       "      <td>HK1</td>\n",
       "      <td>2020-2021</td>\n",
       "      <td>9.5</td>\n",
       "      <td>1</td>\n",
       "      <td>5.87</td>\n",
       "      <td>Cấu trúc rời rạc</td>\n",
       "      <td>1</td>\n",
       "      <td>4</td>\n",
       "      <td>1</td>\n",
       "      <td>5</td>\n",
       "    </tr>\n",
       "    <tr>\n",
       "      <th>4</th>\n",
       "      <td>25933</td>\n",
       "      <td>1677250</td>\n",
       "      <td>1076</td>\n",
       "      <td>HK1</td>\n",
       "      <td>2020-2021</td>\n",
       "      <td>7.9</td>\n",
       "      <td>1</td>\n",
       "      <td>7.77</td>\n",
       "      <td>Tương tác người máy</td>\n",
       "      <td>1</td>\n",
       "      <td>5</td>\n",
       "      <td>1</td>\n",
       "      <td>3</td>\n",
       "    </tr>\n",
       "  </tbody>\n",
       "</table>\n",
       "</div>"
      ],
      "text/plain": [
       "   IDLopHoc  IDSinhVien  MaMonHoc HocKy     NamHoc  DiemTongKet  QuaMon  \\\n",
       "0     25933     1677250      3395   HK1  2020-2021          8.9       1   \n",
       "1     25933     1677250      3197   HK1  2019-2020          8.0       1   \n",
       "2     25933     1677250      3203   HK2  2019-2020          7.6       1   \n",
       "3     25933     1677250       901   HK1  2020-2021          9.5       1   \n",
       "4     25933     1677250      1076   HK1  2020-2021          7.9       1   \n",
       "\n",
       "   DiemTBMon                            TenMonHoc  ThuocKCNTT  DotHoc  \\\n",
       "0       7.49                            Logic học           0       2   \n",
       "1       7.52            Kỹ năng xây dựng kế hoạch           0       3   \n",
       "2       7.19  Âm nhạc – Nhạc lý và Guitar căn bản           0       4   \n",
       "3       5.87                     Cấu trúc rời rạc           1       4   \n",
       "4       7.77                  Tương tác người máy           1       5   \n",
       "\n",
       "   GioiTinh  MaHoa_XepLoai  \n",
       "0         1              4  \n",
       "1         1              3  \n",
       "2         1              3  \n",
       "3         1              5  \n",
       "4         1              3  "
      ]
     },
     "execution_count": 2,
     "metadata": {},
     "output_type": "execute_result"
    }
   ],
   "source": [
    "data = pd.read_csv('data_deep_clean_v6.csv')\n",
    "data.head()"
   ]
  },
  {
   "cell_type": "code",
   "execution_count": 3,
   "metadata": {},
   "outputs": [
    {
     "data": {
      "text/html": [
       "<div>\n",
       "<style scoped>\n",
       "    .dataframe tbody tr th:only-of-type {\n",
       "        vertical-align: middle;\n",
       "    }\n",
       "\n",
       "    .dataframe tbody tr th {\n",
       "        vertical-align: top;\n",
       "    }\n",
       "\n",
       "    .dataframe thead th {\n",
       "        text-align: right;\n",
       "    }\n",
       "</style>\n",
       "<table border=\"1\" class=\"dataframe\">\n",
       "  <thead>\n",
       "    <tr style=\"text-align: right;\">\n",
       "      <th></th>\n",
       "      <th>DotHoc</th>\n",
       "      <th>MaMonHoc</th>\n",
       "    </tr>\n",
       "  </thead>\n",
       "  <tbody>\n",
       "    <tr>\n",
       "      <th>3260</th>\n",
       "      <td>2</td>\n",
       "      <td>3320</td>\n",
       "    </tr>\n",
       "    <tr>\n",
       "      <th>3261</th>\n",
       "      <td>3</td>\n",
       "      <td>3206</td>\n",
       "    </tr>\n",
       "    <tr>\n",
       "      <th>3262</th>\n",
       "      <td>4</td>\n",
       "      <td>3245</td>\n",
       "    </tr>\n",
       "    <tr>\n",
       "      <th>3263</th>\n",
       "      <td>4</td>\n",
       "      <td>2031</td>\n",
       "    </tr>\n",
       "    <tr>\n",
       "      <th>3264</th>\n",
       "      <td>5</td>\n",
       "      <td>3591</td>\n",
       "    </tr>\n",
       "  </tbody>\n",
       "</table>\n",
       "</div>"
      ],
      "text/plain": [
       "      DotHoc  MaMonHoc\n",
       "3260       2      3320\n",
       "3261       3      3206\n",
       "3262       4      3245\n",
       "3263       4      2031\n",
       "3264       5      3591"
      ]
     },
     "execution_count": 3,
     "metadata": {},
     "output_type": "execute_result"
    }
   ],
   "source": [
    "lst_sv = data['IDSinhVien'].values\n",
    "lst_sv = set(lst_sv)\n",
    "lst_sv = list(lst_sv)\n",
    "data_Sv = data[data['IDSinhVien'] == lst_sv[0]][['DotHoc','MaMonHoc']]\n",
    "data_Sv"
   ]
  },
  {
   "cell_type": "code",
   "execution_count": 4,
   "metadata": {},
   "outputs": [],
   "source": [
    "def process_data(data):\n",
    "    # label_subject = LabelEncoder()\n",
    "    # data['MaMonHoc'] = label_subject.fit_transform(data['MaMonHoc'])\n",
    "    # print(len(np.unique(data['MaMonHoc'])))\n",
    "    lst_sv = data['IDSinhVien'].values\n",
    "    lst_sv = set(lst_sv)\n",
    "    lst_sv = list(lst_sv)\n",
    "    X = []\n",
    "    Y = []\n",
    "    for sv in lst_sv:\n",
    "        data_Sv = data[data['IDSinhVien'] == sv][['DotHoc','MaMonHoc','DiemTongKet']]\n",
    "        data_Sv.head()\n",
    "        data_Sv = np.array(data_Sv)\n",
    "        label = data[data['IDSinhVien'] == sv][['MaMonHoc']]\n",
    "        label = np.array(label)\n",
    "        i = 0\n",
    "        while( i < len(data_Sv)-1):\n",
    "            X_one = np.zeros((15,3))\n",
    "            \n",
    "            if data_Sv[i][0] == data_Sv[i+1][0] and data_Sv[i][0] != 2:\n",
    "                # X.append(X[-1])\n",
    "                # Y.append(label[i+1])\n",
    "                i += 1\n",
    "            elif data_Sv[i][0] == data_Sv[i+1][0] and data_Sv[i][0] == 2:\n",
    "                i += 1\n",
    "            else:\n",
    "                for j in range(i+1):\n",
    "                    X_one[j] = data_Sv[j]\n",
    "                X.append(X_one)\n",
    "                Y.append(label[i+1])\n",
    "                i += 1\n",
    "    X = np.array(X)\n",
    "    y = np.array(Y)\n",
    "    \n",
    "    \n",
    "    return X, y"
   ]
  },
  {
   "cell_type": "code",
   "execution_count": 5,
   "metadata": {},
   "outputs": [],
   "source": [
    "X, y = process_data(data)"
   ]
  },
  {
   "cell_type": "code",
   "execution_count": 6,
   "metadata": {},
   "outputs": [
    {
     "name": "stderr",
     "output_type": "stream",
     "text": [
      "c:\\Users\\USER\\AppData\\Local\\Programs\\Python\\Python310\\lib\\site-packages\\sklearn\\preprocessing\\_label.py:116: DataConversionWarning: A column-vector y was passed when a 1d array was expected. Please change the shape of y to (n_samples, ), for example using ravel().\n",
      "  y = column_or_1d(y, warn=True)\n"
     ]
    }
   ],
   "source": [
    "from sklearn.preprocessing import LabelEncoder\n",
    "\n",
    "label_encoder = LabelEncoder()\n",
    "y_encoder = label_encoder.fit_transform(y)\n",
    "subject_count = len(np.unique(y_encoder))\n",
    "y_encoder = to_categorical(y_encoder, num_classes=subject_count)"
   ]
  },
  {
   "cell_type": "code",
   "execution_count": 7,
   "metadata": {},
   "outputs": [],
   "source": [
    "X_train, X_test, y_train, y_test = train_test_split(X, y_encoder, test_size=0.2, random_state=42)"
   ]
  },
  {
   "cell_type": "code",
   "execution_count": 8,
   "metadata": {},
   "outputs": [],
   "source": [
    "#Train GRU\n",
    "model = Sequential()\n",
    "model.add(GRU(128, return_sequences=True, input_shape=(X.shape[1], X.shape[2])))\n",
    "model.add(Dropout(0.1))\n",
    "model.add(BatchNormalization())\n",
    "\n",
    "model.add(GRU(64))\n",
    "model.add(Dropout(0.4))\n",
    "model.add(BatchNormalization())\n",
    "\n",
    "model.add(Dense(64, activation='relu'))  # Lớp Dense với hàm kích hoạt ReLU\n",
    "\n",
    "model.add(Dense(subject_count, activation='softmax'))\n",
    "\n"
   ]
  },
  {
   "cell_type": "code",
   "execution_count": 9,
   "metadata": {},
   "outputs": [],
   "source": [
    "model.compile(optimizer='adam', loss='categorical_crossentropy', metrics=['accuracy'])"
   ]
  },
  {
   "cell_type": "code",
   "execution_count": 10,
   "metadata": {},
   "outputs": [
    {
     "name": "stdout",
     "output_type": "stream",
     "text": [
      "Epoch 1/50\n",
      "43/43 [==============================] - 5s 33ms/step - loss: 2.9918 - accuracy: 0.1802 - val_loss: 2.9564 - val_accuracy: 0.1837\n",
      "Epoch 2/50\n",
      "43/43 [==============================] - 1s 17ms/step - loss: 2.1356 - accuracy: 0.3552 - val_loss: 2.5393 - val_accuracy: 0.3353\n",
      "Epoch 3/50\n",
      "43/43 [==============================] - 1s 18ms/step - loss: 1.9285 - accuracy: 0.3851 - val_loss: 2.4274 - val_accuracy: 0.3353\n",
      "Epoch 4/50\n",
      "43/43 [==============================] - 1s 19ms/step - loss: 1.8713 - accuracy: 0.3786 - val_loss: 2.2735 - val_accuracy: 0.3353\n",
      "Epoch 5/50\n",
      "43/43 [==============================] - 1s 18ms/step - loss: 1.8187 - accuracy: 0.3902 - val_loss: 1.8122 - val_accuracy: 0.3994\n",
      "Epoch 6/50\n",
      "43/43 [==============================] - 1s 18ms/step - loss: 1.8174 - accuracy: 0.3997 - val_loss: 1.7541 - val_accuracy: 0.3994\n",
      "Epoch 7/50\n",
      "43/43 [==============================] - 1s 17ms/step - loss: 1.7680 - accuracy: 0.4165 - val_loss: 1.8188 - val_accuracy: 0.3790\n",
      "Epoch 8/50\n",
      "43/43 [==============================] - 1s 20ms/step - loss: 1.7543 - accuracy: 0.4165 - val_loss: 1.8696 - val_accuracy: 0.3819\n",
      "Epoch 9/50\n",
      "43/43 [==============================] - 1s 20ms/step - loss: 1.7899 - accuracy: 0.4143 - val_loss: 1.6984 - val_accuracy: 0.4665\n",
      "Epoch 10/50\n",
      "43/43 [==============================] - 1s 21ms/step - loss: 1.7692 - accuracy: 0.3895 - val_loss: 1.8158 - val_accuracy: 0.4140\n",
      "Epoch 11/50\n",
      "43/43 [==============================] - 1s 21ms/step - loss: 1.8254 - accuracy: 0.3931 - val_loss: 1.6194 - val_accuracy: 0.4665\n",
      "Epoch 12/50\n",
      "43/43 [==============================] - 1s 19ms/step - loss: 1.7497 - accuracy: 0.4230 - val_loss: 1.6258 - val_accuracy: 0.4665\n",
      "Epoch 13/50\n",
      "43/43 [==============================] - 1s 18ms/step - loss: 1.7077 - accuracy: 0.4354 - val_loss: 1.6363 - val_accuracy: 0.4752\n",
      "Epoch 14/50\n",
      "43/43 [==============================] - 1s 20ms/step - loss: 1.7237 - accuracy: 0.4201 - val_loss: 1.6692 - val_accuracy: 0.4781\n",
      "Epoch 15/50\n",
      "43/43 [==============================] - 1s 19ms/step - loss: 1.7072 - accuracy: 0.4391 - val_loss: 1.6281 - val_accuracy: 0.4665\n",
      "Epoch 16/50\n",
      "43/43 [==============================] - 1s 19ms/step - loss: 1.7026 - accuracy: 0.4369 - val_loss: 1.6419 - val_accuracy: 0.4665\n",
      "Epoch 17/50\n",
      "43/43 [==============================] - 1s 23ms/step - loss: 1.6993 - accuracy: 0.4282 - val_loss: 1.6403 - val_accuracy: 0.4665\n",
      "Epoch 18/50\n",
      "43/43 [==============================] - 1s 21ms/step - loss: 1.6972 - accuracy: 0.4260 - val_loss: 1.6360 - val_accuracy: 0.4781\n",
      "Epoch 19/50\n",
      "43/43 [==============================] - 1s 24ms/step - loss: 1.7026 - accuracy: 0.4384 - val_loss: 1.6484 - val_accuracy: 0.4781\n",
      "Epoch 20/50\n",
      "43/43 [==============================] - 1s 20ms/step - loss: 1.6978 - accuracy: 0.4223 - val_loss: 1.6311 - val_accuracy: 0.4694\n",
      "Epoch 21/50\n",
      "43/43 [==============================] - 1s 19ms/step - loss: 1.6769 - accuracy: 0.4449 - val_loss: 1.6749 - val_accuracy: 0.4781\n",
      "Epoch 22/50\n",
      "43/43 [==============================] - 1s 18ms/step - loss: 1.6996 - accuracy: 0.4427 - val_loss: 1.6366 - val_accuracy: 0.4781\n",
      "Epoch 23/50\n",
      "43/43 [==============================] - 1s 20ms/step - loss: 1.6791 - accuracy: 0.4318 - val_loss: 1.6186 - val_accuracy: 0.4665\n",
      "Epoch 24/50\n",
      "43/43 [==============================] - 1s 18ms/step - loss: 1.6999 - accuracy: 0.4289 - val_loss: 1.6342 - val_accuracy: 0.4665\n",
      "Epoch 25/50\n",
      "43/43 [==============================] - 1s 18ms/step - loss: 1.6984 - accuracy: 0.4362 - val_loss: 1.6205 - val_accuracy: 0.4781\n",
      "Epoch 26/50\n",
      "43/43 [==============================] - 1s 17ms/step - loss: 1.6803 - accuracy: 0.4333 - val_loss: 1.6275 - val_accuracy: 0.4781\n",
      "Epoch 27/50\n",
      "43/43 [==============================] - 1s 19ms/step - loss: 1.6891 - accuracy: 0.4289 - val_loss: 1.6252 - val_accuracy: 0.4694\n",
      "Epoch 28/50\n",
      "43/43 [==============================] - 1s 18ms/step - loss: 1.6700 - accuracy: 0.4362 - val_loss: 1.6431 - val_accuracy: 0.4781\n",
      "Epoch 29/50\n",
      "43/43 [==============================] - 1s 17ms/step - loss: 1.7812 - accuracy: 0.4114 - val_loss: 1.7824 - val_accuracy: 0.4052\n",
      "Epoch 30/50\n",
      "43/43 [==============================] - 1s 18ms/step - loss: 1.7078 - accuracy: 0.4274 - val_loss: 1.6251 - val_accuracy: 0.4694\n",
      "Epoch 31/50\n",
      "43/43 [==============================] - 1s 19ms/step - loss: 1.6843 - accuracy: 0.4376 - val_loss: 1.6260 - val_accuracy: 0.4752\n",
      "Epoch 32/50\n",
      "43/43 [==============================] - 1s 21ms/step - loss: 1.6746 - accuracy: 0.4318 - val_loss: 1.6207 - val_accuracy: 0.4694\n",
      "Epoch 33/50\n",
      "43/43 [==============================] - 1s 19ms/step - loss: 1.6672 - accuracy: 0.4325 - val_loss: 1.6350 - val_accuracy: 0.4694\n",
      "Epoch 34/50\n",
      "43/43 [==============================] - 1s 18ms/step - loss: 1.6862 - accuracy: 0.4252 - val_loss: 1.6276 - val_accuracy: 0.4694\n",
      "Epoch 35/50\n",
      "43/43 [==============================] - 1s 19ms/step - loss: 1.6696 - accuracy: 0.4442 - val_loss: 1.6305 - val_accuracy: 0.4752\n",
      "Epoch 36/50\n",
      "43/43 [==============================] - 1s 23ms/step - loss: 1.6675 - accuracy: 0.4376 - val_loss: 1.6300 - val_accuracy: 0.4781\n",
      "Epoch 37/50\n",
      "43/43 [==============================] - 1s 17ms/step - loss: 1.6836 - accuracy: 0.4376 - val_loss: 1.6286 - val_accuracy: 0.4694\n",
      "Epoch 38/50\n",
      "43/43 [==============================] - 1s 17ms/step - loss: 1.6718 - accuracy: 0.4376 - val_loss: 1.6333 - val_accuracy: 0.4694\n",
      "Epoch 39/50\n",
      "43/43 [==============================] - 1s 17ms/step - loss: 1.6762 - accuracy: 0.4362 - val_loss: 1.6336 - val_accuracy: 0.4781\n",
      "Epoch 40/50\n",
      "43/43 [==============================] - 1s 19ms/step - loss: 1.6703 - accuracy: 0.4391 - val_loss: 1.6310 - val_accuracy: 0.4694\n",
      "Epoch 41/50\n",
      "43/43 [==============================] - 1s 17ms/step - loss: 1.6852 - accuracy: 0.4486 - val_loss: 1.6217 - val_accuracy: 0.4781\n",
      "Epoch 42/50\n",
      "43/43 [==============================] - 1s 17ms/step - loss: 1.6556 - accuracy: 0.4413 - val_loss: 1.6538 - val_accuracy: 0.4052\n",
      "Epoch 43/50\n",
      "43/43 [==============================] - 1s 22ms/step - loss: 1.6619 - accuracy: 0.4376 - val_loss: 1.6327 - val_accuracy: 0.4781\n",
      "Epoch 44/50\n",
      "43/43 [==============================] - 1s 21ms/step - loss: 1.6609 - accuracy: 0.4486 - val_loss: 1.6362 - val_accuracy: 0.4781\n",
      "Epoch 45/50\n",
      "43/43 [==============================] - 1s 22ms/step - loss: 1.6534 - accuracy: 0.4362 - val_loss: 1.6294 - val_accuracy: 0.4781\n",
      "Epoch 46/50\n",
      "43/43 [==============================] - 1s 18ms/step - loss: 1.6683 - accuracy: 0.4427 - val_loss: 1.6247 - val_accuracy: 0.4781\n",
      "Epoch 47/50\n",
      "43/43 [==============================] - 1s 22ms/step - loss: 1.7393 - accuracy: 0.4216 - val_loss: 1.6410 - val_accuracy: 0.4781\n",
      "Epoch 48/50\n",
      "43/43 [==============================] - 1s 19ms/step - loss: 1.6877 - accuracy: 0.4369 - val_loss: 1.6197 - val_accuracy: 0.4694\n",
      "Epoch 49/50\n",
      "43/43 [==============================] - 1s 17ms/step - loss: 1.6645 - accuracy: 0.4442 - val_loss: 1.6315 - val_accuracy: 0.4781\n",
      "Epoch 50/50\n",
      "43/43 [==============================] - 1s 17ms/step - loss: 1.6610 - accuracy: 0.4457 - val_loss: 1.6324 - val_accuracy: 0.4694\n"
     ]
    },
    {
     "data": {
      "text/plain": [
       "<keras.src.callbacks.History at 0x2300c5cb010>"
      ]
     },
     "execution_count": 10,
     "metadata": {},
     "output_type": "execute_result"
    }
   ],
   "source": [
    "model.fit(X_train,y_train, epochs=50, batch_size=32, validation_split=0.2)"
   ]
  },
  {
   "cell_type": "code",
   "execution_count": 11,
   "metadata": {},
   "outputs": [
    {
     "name": "stderr",
     "output_type": "stream",
     "text": [
      "c:\\Users\\USER\\AppData\\Local\\Programs\\Python\\Python310\\lib\\site-packages\\keras\\src\\engine\\training.py:3000: UserWarning: You are saving your model as an HDF5 file via `model.save()`. This file format is considered legacy. We recommend using instead the native Keras format, e.g. `model.save('my_model.keras')`.\n",
      "  saving_api.save_model(\n"
     ]
    }
   ],
   "source": [
    "model.save('gru_2_model.h5')"
   ]
  },
  {
   "cell_type": "code",
   "execution_count": 17,
   "metadata": {},
   "outputs": [
    {
     "name": "stdout",
     "output_type": "stream",
     "text": [
      "14/14 [==============================] - 0s 7ms/step\n",
      "(429, 28)\n"
     ]
    }
   ],
   "source": [
    "y_pred = model.predict(X_test)\n",
    "print(y_pred.shape)\n"
   ]
  },
  {
   "cell_type": "code",
   "execution_count": 18,
   "metadata": {},
   "outputs": [
    {
     "name": "stdout",
     "output_type": "stream",
     "text": [
      "Chỉ số của 4 giá trị lớn nhất cho mỗi hàng:\n",
      " [[ 3  6 24  4]\n",
      " [17 22 27 19]\n",
      " [24 25  3 20]\n",
      " ...\n",
      " [17 22 27 19]\n",
      " [ 3  6 24  4]\n",
      " [22 24  2 20]]\n"
     ]
    }
   ],
   "source": [
    "sorted_indices = np.argsort(y_pred, axis=1)[:, ::-1]\n",
    "\n",
    "# Lấy chỉ số của 4 giá trị lớn nhất trong mỗi hàng\n",
    "y_pred = sorted_indices[:, :4]\n",
    "\n",
    "print(\"Chỉ số của 4 giá trị lớn nhất cho mỗi hàng:\\n\", y_pred)"
   ]
  },
  {
   "cell_type": "code",
   "execution_count": 19,
   "metadata": {},
   "outputs": [
    {
     "data": {
      "text/plain": [
       "array([3206, 3197, 3196, 3217], dtype=int64)"
      ]
     },
     "execution_count": 19,
     "metadata": {},
     "output_type": "execute_result"
    }
   ],
   "source": [
    "a = label_encoder.inverse_transform(y_pred[6])\n",
    "a"
   ]
  },
  {
   "cell_type": "code",
   "execution_count": 20,
   "metadata": {},
   "outputs": [],
   "source": [
    "y_test2 = np.argmax(y_test, axis=1)\n",
    "t = label_encoder.inverse_transform(y_test2)"
   ]
  },
  {
   "cell_type": "code",
   "execution_count": 21,
   "metadata": {},
   "outputs": [
    {
     "data": {
      "text/plain": [
       "0.8508158508158508"
      ]
     },
     "execution_count": 21,
     "metadata": {},
     "output_type": "execute_result"
    }
   ],
   "source": [
    "dem = 0\n",
    "for i in range(len(t)):\n",
    "    if t[i] in label_encoder.inverse_transform(y_pred[i]):\n",
    "        dem += 1\n",
    "dem / len(t)"
   ]
  },
  {
   "cell_type": "code",
   "execution_count": 22,
   "metadata": {},
   "outputs": [],
   "source": [
    "#Train LSTM\n",
    "model = Sequential()\n",
    "model.add(Bidirectional(LSTM(256, return_sequences=True, input_shape=(X.shape[1], X.shape[2]))))\n",
    "model.add(Dropout(0.1))\n",
    "model.add(BatchNormalization())\n",
    "\n",
    "model.add(LSTM(64))\n",
    "model.add(Dropout(0.2))\n",
    "model.add(BatchNormalization())\n",
    "\n",
    "model.add(Dense(64, activation='relu'))  \n",
    "\n",
    "model.add(Dense(subject_count, activation='softmax'))\n"
   ]
  },
  {
   "cell_type": "code",
   "execution_count": 23,
   "metadata": {},
   "outputs": [
    {
     "name": "stdout",
     "output_type": "stream",
     "text": [
      "Epoch 1/50\n",
      "43/43 [==============================] - 11s 120ms/step - loss: 2.2817 - accuracy: 0.3508 - val_loss: 2.6181 - val_accuracy: 0.3003\n",
      "Epoch 2/50\n",
      "43/43 [==============================] - 3s 77ms/step - loss: 1.8587 - accuracy: 0.4063 - val_loss: 2.0890 - val_accuracy: 0.4781\n",
      "Epoch 3/50\n",
      "43/43 [==============================] - 3s 77ms/step - loss: 1.7858 - accuracy: 0.4216 - val_loss: 1.8746 - val_accuracy: 0.4781\n",
      "Epoch 4/50\n",
      "43/43 [==============================] - 3s 74ms/step - loss: 1.7640 - accuracy: 0.4172 - val_loss: 1.7553 - val_accuracy: 0.4752\n",
      "Epoch 5/50\n",
      "43/43 [==============================] - 4s 82ms/step - loss: 1.7600 - accuracy: 0.4230 - val_loss: 1.6884 - val_accuracy: 0.4694\n",
      "Epoch 6/50\n",
      "43/43 [==============================] - 3s 76ms/step - loss: 1.7470 - accuracy: 0.4143 - val_loss: 1.7191 - val_accuracy: 0.4781\n",
      "Epoch 7/50\n",
      "43/43 [==============================] - 3s 77ms/step - loss: 1.7118 - accuracy: 0.4340 - val_loss: 1.7124 - val_accuracy: 0.3965\n",
      "Epoch 8/50\n",
      "43/43 [==============================] - 3s 78ms/step - loss: 1.7338 - accuracy: 0.4201 - val_loss: 1.6445 - val_accuracy: 0.4781\n",
      "Epoch 9/50\n",
      "43/43 [==============================] - 4s 89ms/step - loss: 1.7199 - accuracy: 0.4282 - val_loss: 1.6434 - val_accuracy: 0.4781\n",
      "Epoch 10/50\n",
      "43/43 [==============================] - 3s 74ms/step - loss: 1.6991 - accuracy: 0.4347 - val_loss: 1.6549 - val_accuracy: 0.4781\n",
      "Epoch 11/50\n",
      "43/43 [==============================] - 3s 71ms/step - loss: 1.7051 - accuracy: 0.4333 - val_loss: 1.6494 - val_accuracy: 0.4169\n",
      "Epoch 12/50\n",
      "43/43 [==============================] - 3s 75ms/step - loss: 1.6871 - accuracy: 0.4333 - val_loss: 1.6376 - val_accuracy: 0.4694\n",
      "Epoch 13/50\n",
      "43/43 [==============================] - 4s 85ms/step - loss: 1.6980 - accuracy: 0.4369 - val_loss: 1.6381 - val_accuracy: 0.4781\n",
      "Epoch 14/50\n",
      "43/43 [==============================] - 3s 77ms/step - loss: 1.6961 - accuracy: 0.4362 - val_loss: 1.6404 - val_accuracy: 0.4752\n",
      "Epoch 15/50\n",
      "43/43 [==============================] - 3s 76ms/step - loss: 1.6943 - accuracy: 0.4274 - val_loss: 1.6466 - val_accuracy: 0.4694\n",
      "Epoch 16/50\n",
      "43/43 [==============================] - 3s 77ms/step - loss: 1.6977 - accuracy: 0.4398 - val_loss: 1.6361 - val_accuracy: 0.4781\n",
      "Epoch 17/50\n",
      "43/43 [==============================] - 3s 73ms/step - loss: 1.7213 - accuracy: 0.4282 - val_loss: 1.6416 - val_accuracy: 0.4694\n",
      "Epoch 18/50\n",
      "43/43 [==============================] - 3s 76ms/step - loss: 1.6949 - accuracy: 0.4376 - val_loss: 1.6448 - val_accuracy: 0.4694\n",
      "Epoch 19/50\n",
      "43/43 [==============================] - 3s 74ms/step - loss: 1.6909 - accuracy: 0.4318 - val_loss: 1.6733 - val_accuracy: 0.4461\n",
      "Epoch 20/50\n",
      "43/43 [==============================] - 3s 71ms/step - loss: 1.6805 - accuracy: 0.4318 - val_loss: 1.6214 - val_accuracy: 0.4665\n",
      "Epoch 21/50\n",
      "43/43 [==============================] - 3s 75ms/step - loss: 1.6770 - accuracy: 0.4457 - val_loss: 1.6259 - val_accuracy: 0.4781\n",
      "Epoch 22/50\n",
      "43/43 [==============================] - 4s 90ms/step - loss: 1.6859 - accuracy: 0.4369 - val_loss: 1.6406 - val_accuracy: 0.4781\n",
      "Epoch 23/50\n",
      "43/43 [==============================] - 4s 101ms/step - loss: 1.6821 - accuracy: 0.4376 - val_loss: 1.6256 - val_accuracy: 0.4694\n",
      "Epoch 24/50\n",
      "43/43 [==============================] - 4s 85ms/step - loss: 1.6732 - accuracy: 0.4464 - val_loss: 1.6294 - val_accuracy: 0.4781\n",
      "Epoch 25/50\n",
      "43/43 [==============================] - 4s 91ms/step - loss: 1.6740 - accuracy: 0.4398 - val_loss: 1.6510 - val_accuracy: 0.4694\n",
      "Epoch 26/50\n",
      "43/43 [==============================] - 4s 84ms/step - loss: 1.6667 - accuracy: 0.4464 - val_loss: 1.6482 - val_accuracy: 0.4781\n",
      "Epoch 27/50\n",
      "43/43 [==============================] - 3s 78ms/step - loss: 1.6699 - accuracy: 0.4457 - val_loss: 1.6305 - val_accuracy: 0.4665\n",
      "Epoch 28/50\n",
      "43/43 [==============================] - 3s 72ms/step - loss: 1.6518 - accuracy: 0.4457 - val_loss: 1.6342 - val_accuracy: 0.4781\n",
      "Epoch 29/50\n",
      "43/43 [==============================] - 3s 80ms/step - loss: 1.6626 - accuracy: 0.4449 - val_loss: 1.6324 - val_accuracy: 0.4781\n",
      "Epoch 30/50\n",
      "43/43 [==============================] - 3s 75ms/step - loss: 1.6658 - accuracy: 0.4406 - val_loss: 1.6275 - val_accuracy: 0.4781\n",
      "Epoch 31/50\n",
      "43/43 [==============================] - 3s 79ms/step - loss: 1.6568 - accuracy: 0.4508 - val_loss: 1.6386 - val_accuracy: 0.4781\n",
      "Epoch 32/50\n",
      "43/43 [==============================] - 4s 92ms/step - loss: 1.6653 - accuracy: 0.4464 - val_loss: 1.6264 - val_accuracy: 0.4694\n",
      "Epoch 33/50\n",
      "43/43 [==============================] - 4s 84ms/step - loss: 1.6573 - accuracy: 0.4515 - val_loss: 1.6310 - val_accuracy: 0.4781\n",
      "Epoch 34/50\n",
      "43/43 [==============================] - 3s 70ms/step - loss: 1.6511 - accuracy: 0.4391 - val_loss: 1.6288 - val_accuracy: 0.4694\n",
      "Epoch 35/50\n",
      "43/43 [==============================] - 4s 89ms/step - loss: 1.6567 - accuracy: 0.4493 - val_loss: 1.6324 - val_accuracy: 0.4606\n",
      "Epoch 36/50\n",
      "43/43 [==============================] - 3s 79ms/step - loss: 1.6579 - accuracy: 0.4457 - val_loss: 1.6249 - val_accuracy: 0.4781\n",
      "Epoch 37/50\n",
      "43/43 [==============================] - 4s 88ms/step - loss: 1.6521 - accuracy: 0.4442 - val_loss: 1.6241 - val_accuracy: 0.4781\n",
      "Epoch 38/50\n",
      "43/43 [==============================] - 4s 90ms/step - loss: 1.6734 - accuracy: 0.4420 - val_loss: 1.6199 - val_accuracy: 0.4694\n",
      "Epoch 39/50\n",
      "43/43 [==============================] - 4s 83ms/step - loss: 1.6558 - accuracy: 0.4442 - val_loss: 1.6216 - val_accuracy: 0.4781\n",
      "Epoch 40/50\n",
      "43/43 [==============================] - 4s 91ms/step - loss: 1.6477 - accuracy: 0.4493 - val_loss: 1.6320 - val_accuracy: 0.4781\n",
      "Epoch 41/50\n",
      "43/43 [==============================] - 4s 90ms/step - loss: 1.6479 - accuracy: 0.4457 - val_loss: 1.6317 - val_accuracy: 0.4694\n",
      "Epoch 42/50\n",
      "43/43 [==============================] - 3s 75ms/step - loss: 1.6414 - accuracy: 0.4478 - val_loss: 1.6314 - val_accuracy: 0.4781\n",
      "Epoch 43/50\n",
      "43/43 [==============================] - 3s 75ms/step - loss: 1.6551 - accuracy: 0.4508 - val_loss: 1.6290 - val_accuracy: 0.4781\n",
      "Epoch 44/50\n",
      "43/43 [==============================] - 3s 76ms/step - loss: 1.6496 - accuracy: 0.4449 - val_loss: 1.6242 - val_accuracy: 0.4694\n",
      "Epoch 45/50\n",
      "43/43 [==============================] - 3s 76ms/step - loss: 1.6513 - accuracy: 0.4478 - val_loss: 1.6330 - val_accuracy: 0.4781\n",
      "Epoch 46/50\n",
      "43/43 [==============================] - 4s 91ms/step - loss: 1.6409 - accuracy: 0.4464 - val_loss: 1.6231 - val_accuracy: 0.4694\n",
      "Epoch 47/50\n",
      "43/43 [==============================] - 4s 100ms/step - loss: 1.6401 - accuracy: 0.4464 - val_loss: 1.6207 - val_accuracy: 0.4781\n",
      "Epoch 48/50\n",
      "43/43 [==============================] - 4s 100ms/step - loss: 1.6478 - accuracy: 0.4413 - val_loss: 1.6230 - val_accuracy: 0.4781\n",
      "Epoch 49/50\n",
      "43/43 [==============================] - 5s 107ms/step - loss: 1.6430 - accuracy: 0.4435 - val_loss: 1.6363 - val_accuracy: 0.4781\n",
      "Epoch 50/50\n",
      "43/43 [==============================] - 4s 97ms/step - loss: 1.6408 - accuracy: 0.4500 - val_loss: 1.6252 - val_accuracy: 0.4781\n"
     ]
    },
    {
     "data": {
      "text/plain": [
       "<keras.src.callbacks.History at 0x23014928c10>"
      ]
     },
     "execution_count": 23,
     "metadata": {},
     "output_type": "execute_result"
    }
   ],
   "source": [
    "model.compile(optimizer='adam', loss='categorical_crossentropy', metrics=['accuracy'])\n",
    "\n",
    "model.fit(X_train,y_train, epochs=50, batch_size=32, validation_split=0.2)"
   ]
  },
  {
   "cell_type": "code",
   "execution_count": 24,
   "metadata": {},
   "outputs": [
    {
     "name": "stderr",
     "output_type": "stream",
     "text": [
      "c:\\Users\\USER\\AppData\\Local\\Programs\\Python\\Python310\\lib\\site-packages\\keras\\src\\engine\\training.py:3000: UserWarning: You are saving your model as an HDF5 file via `model.save()`. This file format is considered legacy. We recommend using instead the native Keras format, e.g. `model.save('my_model.keras')`.\n",
      "  saving_api.save_model(\n"
     ]
    }
   ],
   "source": [
    "model.save('lstm_2_model.h5')\n"
   ]
  },
  {
   "cell_type": "code",
   "execution_count": 25,
   "metadata": {},
   "outputs": [
    {
     "name": "stdout",
     "output_type": "stream",
     "text": [
      "14/14 [==============================] - 2s 24ms/step\n",
      "(429, 28)\n"
     ]
    }
   ],
   "source": [
    "y_pred = model.predict(X_test)\n",
    "print(y_pred.shape)\n"
   ]
  },
  {
   "cell_type": "code",
   "execution_count": 26,
   "metadata": {},
   "outputs": [
    {
     "name": "stdout",
     "output_type": "stream",
     "text": [
      "Chỉ số của 4 giá trị lớn nhất cho mỗi hàng:\n",
      " [[ 3  6  4 24]\n",
      " [17 22 19 27]\n",
      " [24 25  3 20]\n",
      " ...\n",
      " [17 22 19 27]\n",
      " [ 3  6  4 24]\n",
      " [24 22  2 20]]\n"
     ]
    }
   ],
   "source": [
    "sorted_indices = np.argsort(y_pred, axis=1)[:, ::-1]\n",
    "\n",
    "# Lấy chỉ số của 4 giá trị lớn nhất trong mỗi hàng\n",
    "y_pred = sorted_indices[:, :4]\n",
    "\n",
    "print(\"Chỉ số của 4 giá trị lớn nhất cho mỗi hàng:\\n\", y_pred)"
   ]
  },
  {
   "cell_type": "code",
   "execution_count": 27,
   "metadata": {},
   "outputs": [],
   "source": [
    "y_test2 = np.argmax(y_test, axis=1)\n",
    "t = label_encoder.inverse_transform(y_test2)"
   ]
  },
  {
   "cell_type": "code",
   "execution_count": 28,
   "metadata": {},
   "outputs": [
    {
     "data": {
      "text/plain": [
       "0.8531468531468531"
      ]
     },
     "execution_count": 28,
     "metadata": {},
     "output_type": "execute_result"
    }
   ],
   "source": [
    "dem = 0\n",
    "for i in range(len(t)):\n",
    "    if t[i] in label_encoder.inverse_transform(y_pred[i]):\n",
    "        dem += 1\n",
    "dem / len(t)"
   ]
  }
 ],
 "metadata": {
  "kernelspec": {
   "display_name": "Python 3",
   "language": "python",
   "name": "python3"
  },
  "language_info": {
   "codemirror_mode": {
    "name": "ipython",
    "version": 3
   },
   "file_extension": ".py",
   "mimetype": "text/x-python",
   "name": "python",
   "nbconvert_exporter": "python",
   "pygments_lexer": "ipython3",
   "version": "3.10.5"
  }
 },
 "nbformat": 4,
 "nbformat_minor": 2
}
